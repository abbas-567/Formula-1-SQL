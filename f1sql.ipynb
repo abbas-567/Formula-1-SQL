{
  "nbformat": 4,
  "nbformat_minor": 0,
  "metadata": {
    "colab": {
      "provenance": [],
      "gpuType": "T4"
    },
    "kernelspec": {
      "name": "python3",
      "display_name": "Python 3"
    },
    "language_info": {
      "name": "python"
    },
    "accelerator": "GPU"
  },
  "cells": [
    {
      "cell_type": "markdown",
      "source": [
        "#**FORMULA ONE SQL DATA ANALYSIS**"
      ],
      "metadata": {
        "id": "5-7ygqtEipFl"
      }
    },
    {
      "cell_type": "markdown",
      "source": [
        "##1. Load data"
      ],
      "metadata": {
        "id": "3ZSgLaWsi9h_"
      }
    },
    {
      "cell_type": "code",
      "source": [
        "!pip install ipython-sql==0.5.0 prettytable==3.9.0 --quiet"
      ],
      "metadata": {
        "colab": {
          "base_uri": "https://localhost:8080/"
        },
        "id": "6uUUBYxwtDCT",
        "outputId": "846a8a4e-f29f-4851-d6d8-8cc8983ed340"
      },
      "execution_count": 1,
      "outputs": [
        {
          "output_type": "stream",
          "name": "stdout",
          "text": [
            "\u001b[?25l   \u001b[90m━━━━━━━━━━━━━━━━━━━━━━━━━━━━━━━━━━━━━━━━\u001b[0m \u001b[32m0.0/1.6 MB\u001b[0m \u001b[31m?\u001b[0m eta \u001b[36m-:--:--\u001b[0m\r\u001b[2K   \u001b[90m━━━━━━━━━━━━━━━━━━━━━━━━━━━━━━━━━━━━━━━━\u001b[0m \u001b[32m1.6/1.6 MB\u001b[0m \u001b[31m82.0 MB/s\u001b[0m eta \u001b[36m0:00:00\u001b[0m\n",
            "\u001b[?25h"
          ]
        }
      ]
    },
    {
      "cell_type": "code",
      "source": [
        "%load_ext sql\n",
        "\n",
        "\n",
        "import prettytable\n",
        "from prettytable import DEFAULT\n",
        "import sql\n",
        "sql.display = prettytable\n",
        "\n"
      ],
      "metadata": {
        "id": "Dmwza6wwr35g"
      },
      "execution_count": 2,
      "outputs": []
    },
    {
      "cell_type": "code",
      "source": [
        "%sql sqlite:///f1.db"
      ],
      "metadata": {
        "id": "CtPKuYtGsJGG"
      },
      "execution_count": 3,
      "outputs": []
    },
    {
      "cell_type": "code",
      "source": [
        "from google.colab import files\n",
        "uploaded = files.upload()"
      ],
      "metadata": {
        "colab": {
          "base_uri": "https://localhost:8080/",
          "height": 73
        },
        "id": "zNb6Oe7XjgVV",
        "outputId": "7d8d8111-92a6-4605-d180-bc37bec56c9e"
      },
      "execution_count": 4,
      "outputs": [
        {
          "output_type": "display_data",
          "data": {
            "text/plain": [
              "<IPython.core.display.HTML object>"
            ],
            "text/html": [
              "\n",
              "     <input type=\"file\" id=\"files-8dd67729-11fe-4d85-9ab3-34c5c3d65951\" name=\"files[]\" multiple disabled\n",
              "        style=\"border:none\" />\n",
              "     <output id=\"result-8dd67729-11fe-4d85-9ab3-34c5c3d65951\">\n",
              "      Upload widget is only available when the cell has been executed in the\n",
              "      current browser session. Please rerun this cell to enable.\n",
              "      </output>\n",
              "      <script>// Copyright 2017 Google LLC\n",
              "//\n",
              "// Licensed under the Apache License, Version 2.0 (the \"License\");\n",
              "// you may not use this file except in compliance with the License.\n",
              "// You may obtain a copy of the License at\n",
              "//\n",
              "//      http://www.apache.org/licenses/LICENSE-2.0\n",
              "//\n",
              "// Unless required by applicable law or agreed to in writing, software\n",
              "// distributed under the License is distributed on an \"AS IS\" BASIS,\n",
              "// WITHOUT WARRANTIES OR CONDITIONS OF ANY KIND, either express or implied.\n",
              "// See the License for the specific language governing permissions and\n",
              "// limitations under the License.\n",
              "\n",
              "/**\n",
              " * @fileoverview Helpers for google.colab Python module.\n",
              " */\n",
              "(function(scope) {\n",
              "function span(text, styleAttributes = {}) {\n",
              "  const element = document.createElement('span');\n",
              "  element.textContent = text;\n",
              "  for (const key of Object.keys(styleAttributes)) {\n",
              "    element.style[key] = styleAttributes[key];\n",
              "  }\n",
              "  return element;\n",
              "}\n",
              "\n",
              "// Max number of bytes which will be uploaded at a time.\n",
              "const MAX_PAYLOAD_SIZE = 100 * 1024;\n",
              "\n",
              "function _uploadFiles(inputId, outputId) {\n",
              "  const steps = uploadFilesStep(inputId, outputId);\n",
              "  const outputElement = document.getElementById(outputId);\n",
              "  // Cache steps on the outputElement to make it available for the next call\n",
              "  // to uploadFilesContinue from Python.\n",
              "  outputElement.steps = steps;\n",
              "\n",
              "  return _uploadFilesContinue(outputId);\n",
              "}\n",
              "\n",
              "// This is roughly an async generator (not supported in the browser yet),\n",
              "// where there are multiple asynchronous steps and the Python side is going\n",
              "// to poll for completion of each step.\n",
              "// This uses a Promise to block the python side on completion of each step,\n",
              "// then passes the result of the previous step as the input to the next step.\n",
              "function _uploadFilesContinue(outputId) {\n",
              "  const outputElement = document.getElementById(outputId);\n",
              "  const steps = outputElement.steps;\n",
              "\n",
              "  const next = steps.next(outputElement.lastPromiseValue);\n",
              "  return Promise.resolve(next.value.promise).then((value) => {\n",
              "    // Cache the last promise value to make it available to the next\n",
              "    // step of the generator.\n",
              "    outputElement.lastPromiseValue = value;\n",
              "    return next.value.response;\n",
              "  });\n",
              "}\n",
              "\n",
              "/**\n",
              " * Generator function which is called between each async step of the upload\n",
              " * process.\n",
              " * @param {string} inputId Element ID of the input file picker element.\n",
              " * @param {string} outputId Element ID of the output display.\n",
              " * @return {!Iterable<!Object>} Iterable of next steps.\n",
              " */\n",
              "function* uploadFilesStep(inputId, outputId) {\n",
              "  const inputElement = document.getElementById(inputId);\n",
              "  inputElement.disabled = false;\n",
              "\n",
              "  const outputElement = document.getElementById(outputId);\n",
              "  outputElement.innerHTML = '';\n",
              "\n",
              "  const pickedPromise = new Promise((resolve) => {\n",
              "    inputElement.addEventListener('change', (e) => {\n",
              "      resolve(e.target.files);\n",
              "    });\n",
              "  });\n",
              "\n",
              "  const cancel = document.createElement('button');\n",
              "  inputElement.parentElement.appendChild(cancel);\n",
              "  cancel.textContent = 'Cancel upload';\n",
              "  const cancelPromise = new Promise((resolve) => {\n",
              "    cancel.onclick = () => {\n",
              "      resolve(null);\n",
              "    };\n",
              "  });\n",
              "\n",
              "  // Wait for the user to pick the files.\n",
              "  const files = yield {\n",
              "    promise: Promise.race([pickedPromise, cancelPromise]),\n",
              "    response: {\n",
              "      action: 'starting',\n",
              "    }\n",
              "  };\n",
              "\n",
              "  cancel.remove();\n",
              "\n",
              "  // Disable the input element since further picks are not allowed.\n",
              "  inputElement.disabled = true;\n",
              "\n",
              "  if (!files) {\n",
              "    return {\n",
              "      response: {\n",
              "        action: 'complete',\n",
              "      }\n",
              "    };\n",
              "  }\n",
              "\n",
              "  for (const file of files) {\n",
              "    const li = document.createElement('li');\n",
              "    li.append(span(file.name, {fontWeight: 'bold'}));\n",
              "    li.append(span(\n",
              "        `(${file.type || 'n/a'}) - ${file.size} bytes, ` +\n",
              "        `last modified: ${\n",
              "            file.lastModifiedDate ? file.lastModifiedDate.toLocaleDateString() :\n",
              "                                    'n/a'} - `));\n",
              "    const percent = span('0% done');\n",
              "    li.appendChild(percent);\n",
              "\n",
              "    outputElement.appendChild(li);\n",
              "\n",
              "    const fileDataPromise = new Promise((resolve) => {\n",
              "      const reader = new FileReader();\n",
              "      reader.onload = (e) => {\n",
              "        resolve(e.target.result);\n",
              "      };\n",
              "      reader.readAsArrayBuffer(file);\n",
              "    });\n",
              "    // Wait for the data to be ready.\n",
              "    let fileData = yield {\n",
              "      promise: fileDataPromise,\n",
              "      response: {\n",
              "        action: 'continue',\n",
              "      }\n",
              "    };\n",
              "\n",
              "    // Use a chunked sending to avoid message size limits. See b/62115660.\n",
              "    let position = 0;\n",
              "    do {\n",
              "      const length = Math.min(fileData.byteLength - position, MAX_PAYLOAD_SIZE);\n",
              "      const chunk = new Uint8Array(fileData, position, length);\n",
              "      position += length;\n",
              "\n",
              "      const base64 = btoa(String.fromCharCode.apply(null, chunk));\n",
              "      yield {\n",
              "        response: {\n",
              "          action: 'append',\n",
              "          file: file.name,\n",
              "          data: base64,\n",
              "        },\n",
              "      };\n",
              "\n",
              "      let percentDone = fileData.byteLength === 0 ?\n",
              "          100 :\n",
              "          Math.round((position / fileData.byteLength) * 100);\n",
              "      percent.textContent = `${percentDone}% done`;\n",
              "\n",
              "    } while (position < fileData.byteLength);\n",
              "  }\n",
              "\n",
              "  // All done.\n",
              "  yield {\n",
              "    response: {\n",
              "      action: 'complete',\n",
              "    }\n",
              "  };\n",
              "}\n",
              "\n",
              "scope.google = scope.google || {};\n",
              "scope.google.colab = scope.google.colab || {};\n",
              "scope.google.colab._files = {\n",
              "  _uploadFiles,\n",
              "  _uploadFilesContinue,\n",
              "};\n",
              "})(self);\n",
              "</script> "
            ]
          },
          "metadata": {}
        },
        {
          "output_type": "stream",
          "name": "stdout",
          "text": [
            "Saving f1.zip to f1.zip\n"
          ]
        }
      ]
    },
    {
      "cell_type": "code",
      "source": [
        "import zipfile\n",
        "import os\n",
        "\n",
        "zip_path = \"f1.zip\"\n",
        "\n",
        "\n",
        "with zipfile.ZipFile(zip_path, 'r') as zip_ref:\n",
        "    zip_ref.extractall(\".\")\n",
        "\n",
        "print(\"Files extracted to home directory\")\n"
      ],
      "metadata": {
        "colab": {
          "base_uri": "https://localhost:8080/"
        },
        "id": "R_AioC6_lnlQ",
        "outputId": "db8d0c90-04c8-4062-de96-54496fd31af6"
      },
      "execution_count": 5,
      "outputs": [
        {
          "output_type": "stream",
          "name": "stdout",
          "text": [
            "Files extracted to home directory\n"
          ]
        }
      ]
    },
    {
      "cell_type": "code",
      "source": [
        "import pandas as pd\n",
        "import sqlite3\n",
        "\n",
        "conn = sqlite3.connect(\"f1.db\")\n",
        "\n",
        "drivers = pd.read_csv(\"drivers.csv\")\n",
        "drivers.to_sql(\"drivers\", conn, if_exists=\"replace\", index=False)\n",
        "pd.read_sql(\"SELECT * FROM drivers LIMIT 5;\", conn)"
      ],
      "metadata": {
        "colab": {
          "base_uri": "https://localhost:8080/",
          "height": 206
        },
        "id": "zc13L6JpnrcQ",
        "outputId": "895eb92c-95bf-4ac0-90a6-4cc188cefeb0"
      },
      "execution_count": 6,
      "outputs": [
        {
          "output_type": "execute_result",
          "data": {
            "text/plain": [
              "   driverId   driverRef number code  forename     surname         dob  \\\n",
              "0         1    hamilton     44  HAM     Lewis    Hamilton  1985-01-07   \n",
              "1         2    heidfeld     \\N  HEI      Nick    Heidfeld  1977-05-10   \n",
              "2         3     rosberg      6  ROS      Nico     Rosberg  1985-06-27   \n",
              "3         4      alonso     14  ALO  Fernando      Alonso  1981-07-29   \n",
              "4         5  kovalainen     \\N  KOV    Heikki  Kovalainen  1981-10-19   \n",
              "\n",
              "  nationality                                             url  \n",
              "0     British     http://en.wikipedia.org/wiki/Lewis_Hamilton  \n",
              "1      German      http://en.wikipedia.org/wiki/Nick_Heidfeld  \n",
              "2      German       http://en.wikipedia.org/wiki/Nico_Rosberg  \n",
              "3     Spanish    http://en.wikipedia.org/wiki/Fernando_Alonso  \n",
              "4     Finnish  http://en.wikipedia.org/wiki/Heikki_Kovalainen  "
            ],
            "text/html": [
              "\n",
              "  <div id=\"df-13032fd3-9cdf-414c-9bca-a99a1e0ac157\" class=\"colab-df-container\">\n",
              "    <div>\n",
              "<style scoped>\n",
              "    .dataframe tbody tr th:only-of-type {\n",
              "        vertical-align: middle;\n",
              "    }\n",
              "\n",
              "    .dataframe tbody tr th {\n",
              "        vertical-align: top;\n",
              "    }\n",
              "\n",
              "    .dataframe thead th {\n",
              "        text-align: right;\n",
              "    }\n",
              "</style>\n",
              "<table border=\"1\" class=\"dataframe\">\n",
              "  <thead>\n",
              "    <tr style=\"text-align: right;\">\n",
              "      <th></th>\n",
              "      <th>driverId</th>\n",
              "      <th>driverRef</th>\n",
              "      <th>number</th>\n",
              "      <th>code</th>\n",
              "      <th>forename</th>\n",
              "      <th>surname</th>\n",
              "      <th>dob</th>\n",
              "      <th>nationality</th>\n",
              "      <th>url</th>\n",
              "    </tr>\n",
              "  </thead>\n",
              "  <tbody>\n",
              "    <tr>\n",
              "      <th>0</th>\n",
              "      <td>1</td>\n",
              "      <td>hamilton</td>\n",
              "      <td>44</td>\n",
              "      <td>HAM</td>\n",
              "      <td>Lewis</td>\n",
              "      <td>Hamilton</td>\n",
              "      <td>1985-01-07</td>\n",
              "      <td>British</td>\n",
              "      <td>http://en.wikipedia.org/wiki/Lewis_Hamilton</td>\n",
              "    </tr>\n",
              "    <tr>\n",
              "      <th>1</th>\n",
              "      <td>2</td>\n",
              "      <td>heidfeld</td>\n",
              "      <td>\\N</td>\n",
              "      <td>HEI</td>\n",
              "      <td>Nick</td>\n",
              "      <td>Heidfeld</td>\n",
              "      <td>1977-05-10</td>\n",
              "      <td>German</td>\n",
              "      <td>http://en.wikipedia.org/wiki/Nick_Heidfeld</td>\n",
              "    </tr>\n",
              "    <tr>\n",
              "      <th>2</th>\n",
              "      <td>3</td>\n",
              "      <td>rosberg</td>\n",
              "      <td>6</td>\n",
              "      <td>ROS</td>\n",
              "      <td>Nico</td>\n",
              "      <td>Rosberg</td>\n",
              "      <td>1985-06-27</td>\n",
              "      <td>German</td>\n",
              "      <td>http://en.wikipedia.org/wiki/Nico_Rosberg</td>\n",
              "    </tr>\n",
              "    <tr>\n",
              "      <th>3</th>\n",
              "      <td>4</td>\n",
              "      <td>alonso</td>\n",
              "      <td>14</td>\n",
              "      <td>ALO</td>\n",
              "      <td>Fernando</td>\n",
              "      <td>Alonso</td>\n",
              "      <td>1981-07-29</td>\n",
              "      <td>Spanish</td>\n",
              "      <td>http://en.wikipedia.org/wiki/Fernando_Alonso</td>\n",
              "    </tr>\n",
              "    <tr>\n",
              "      <th>4</th>\n",
              "      <td>5</td>\n",
              "      <td>kovalainen</td>\n",
              "      <td>\\N</td>\n",
              "      <td>KOV</td>\n",
              "      <td>Heikki</td>\n",
              "      <td>Kovalainen</td>\n",
              "      <td>1981-10-19</td>\n",
              "      <td>Finnish</td>\n",
              "      <td>http://en.wikipedia.org/wiki/Heikki_Kovalainen</td>\n",
              "    </tr>\n",
              "  </tbody>\n",
              "</table>\n",
              "</div>\n",
              "    <div class=\"colab-df-buttons\">\n",
              "\n",
              "  <div class=\"colab-df-container\">\n",
              "    <button class=\"colab-df-convert\" onclick=\"convertToInteractive('df-13032fd3-9cdf-414c-9bca-a99a1e0ac157')\"\n",
              "            title=\"Convert this dataframe to an interactive table.\"\n",
              "            style=\"display:none;\">\n",
              "\n",
              "  <svg xmlns=\"http://www.w3.org/2000/svg\" height=\"24px\" viewBox=\"0 -960 960 960\">\n",
              "    <path d=\"M120-120v-720h720v720H120Zm60-500h600v-160H180v160Zm220 220h160v-160H400v160Zm0 220h160v-160H400v160ZM180-400h160v-160H180v160Zm440 0h160v-160H620v160ZM180-180h160v-160H180v160Zm440 0h160v-160H620v160Z\"/>\n",
              "  </svg>\n",
              "    </button>\n",
              "\n",
              "  <style>\n",
              "    .colab-df-container {\n",
              "      display:flex;\n",
              "      gap: 12px;\n",
              "    }\n",
              "\n",
              "    .colab-df-convert {\n",
              "      background-color: #E8F0FE;\n",
              "      border: none;\n",
              "      border-radius: 50%;\n",
              "      cursor: pointer;\n",
              "      display: none;\n",
              "      fill: #1967D2;\n",
              "      height: 32px;\n",
              "      padding: 0 0 0 0;\n",
              "      width: 32px;\n",
              "    }\n",
              "\n",
              "    .colab-df-convert:hover {\n",
              "      background-color: #E2EBFA;\n",
              "      box-shadow: 0px 1px 2px rgba(60, 64, 67, 0.3), 0px 1px 3px 1px rgba(60, 64, 67, 0.15);\n",
              "      fill: #174EA6;\n",
              "    }\n",
              "\n",
              "    .colab-df-buttons div {\n",
              "      margin-bottom: 4px;\n",
              "    }\n",
              "\n",
              "    [theme=dark] .colab-df-convert {\n",
              "      background-color: #3B4455;\n",
              "      fill: #D2E3FC;\n",
              "    }\n",
              "\n",
              "    [theme=dark] .colab-df-convert:hover {\n",
              "      background-color: #434B5C;\n",
              "      box-shadow: 0px 1px 3px 1px rgba(0, 0, 0, 0.15);\n",
              "      filter: drop-shadow(0px 1px 2px rgba(0, 0, 0, 0.3));\n",
              "      fill: #FFFFFF;\n",
              "    }\n",
              "  </style>\n",
              "\n",
              "    <script>\n",
              "      const buttonEl =\n",
              "        document.querySelector('#df-13032fd3-9cdf-414c-9bca-a99a1e0ac157 button.colab-df-convert');\n",
              "      buttonEl.style.display =\n",
              "        google.colab.kernel.accessAllowed ? 'block' : 'none';\n",
              "\n",
              "      async function convertToInteractive(key) {\n",
              "        const element = document.querySelector('#df-13032fd3-9cdf-414c-9bca-a99a1e0ac157');\n",
              "        const dataTable =\n",
              "          await google.colab.kernel.invokeFunction('convertToInteractive',\n",
              "                                                    [key], {});\n",
              "        if (!dataTable) return;\n",
              "\n",
              "        const docLinkHtml = 'Like what you see? Visit the ' +\n",
              "          '<a target=\"_blank\" href=https://colab.research.google.com/notebooks/data_table.ipynb>data table notebook</a>'\n",
              "          + ' to learn more about interactive tables.';\n",
              "        element.innerHTML = '';\n",
              "        dataTable['output_type'] = 'display_data';\n",
              "        await google.colab.output.renderOutput(dataTable, element);\n",
              "        const docLink = document.createElement('div');\n",
              "        docLink.innerHTML = docLinkHtml;\n",
              "        element.appendChild(docLink);\n",
              "      }\n",
              "    </script>\n",
              "  </div>\n",
              "\n",
              "\n",
              "    <div id=\"df-0992210a-766d-4065-9e68-0ef3856c7203\">\n",
              "      <button class=\"colab-df-quickchart\" onclick=\"quickchart('df-0992210a-766d-4065-9e68-0ef3856c7203')\"\n",
              "                title=\"Suggest charts\"\n",
              "                style=\"display:none;\">\n",
              "\n",
              "<svg xmlns=\"http://www.w3.org/2000/svg\" height=\"24px\"viewBox=\"0 0 24 24\"\n",
              "     width=\"24px\">\n",
              "    <g>\n",
              "        <path d=\"M19 3H5c-1.1 0-2 .9-2 2v14c0 1.1.9 2 2 2h14c1.1 0 2-.9 2-2V5c0-1.1-.9-2-2-2zM9 17H7v-7h2v7zm4 0h-2V7h2v10zm4 0h-2v-4h2v4z\"/>\n",
              "    </g>\n",
              "</svg>\n",
              "      </button>\n",
              "\n",
              "<style>\n",
              "  .colab-df-quickchart {\n",
              "      --bg-color: #E8F0FE;\n",
              "      --fill-color: #1967D2;\n",
              "      --hover-bg-color: #E2EBFA;\n",
              "      --hover-fill-color: #174EA6;\n",
              "      --disabled-fill-color: #AAA;\n",
              "      --disabled-bg-color: #DDD;\n",
              "  }\n",
              "\n",
              "  [theme=dark] .colab-df-quickchart {\n",
              "      --bg-color: #3B4455;\n",
              "      --fill-color: #D2E3FC;\n",
              "      --hover-bg-color: #434B5C;\n",
              "      --hover-fill-color: #FFFFFF;\n",
              "      --disabled-bg-color: #3B4455;\n",
              "      --disabled-fill-color: #666;\n",
              "  }\n",
              "\n",
              "  .colab-df-quickchart {\n",
              "    background-color: var(--bg-color);\n",
              "    border: none;\n",
              "    border-radius: 50%;\n",
              "    cursor: pointer;\n",
              "    display: none;\n",
              "    fill: var(--fill-color);\n",
              "    height: 32px;\n",
              "    padding: 0;\n",
              "    width: 32px;\n",
              "  }\n",
              "\n",
              "  .colab-df-quickchart:hover {\n",
              "    background-color: var(--hover-bg-color);\n",
              "    box-shadow: 0 1px 2px rgba(60, 64, 67, 0.3), 0 1px 3px 1px rgba(60, 64, 67, 0.15);\n",
              "    fill: var(--button-hover-fill-color);\n",
              "  }\n",
              "\n",
              "  .colab-df-quickchart-complete:disabled,\n",
              "  .colab-df-quickchart-complete:disabled:hover {\n",
              "    background-color: var(--disabled-bg-color);\n",
              "    fill: var(--disabled-fill-color);\n",
              "    box-shadow: none;\n",
              "  }\n",
              "\n",
              "  .colab-df-spinner {\n",
              "    border: 2px solid var(--fill-color);\n",
              "    border-color: transparent;\n",
              "    border-bottom-color: var(--fill-color);\n",
              "    animation:\n",
              "      spin 1s steps(1) infinite;\n",
              "  }\n",
              "\n",
              "  @keyframes spin {\n",
              "    0% {\n",
              "      border-color: transparent;\n",
              "      border-bottom-color: var(--fill-color);\n",
              "      border-left-color: var(--fill-color);\n",
              "    }\n",
              "    20% {\n",
              "      border-color: transparent;\n",
              "      border-left-color: var(--fill-color);\n",
              "      border-top-color: var(--fill-color);\n",
              "    }\n",
              "    30% {\n",
              "      border-color: transparent;\n",
              "      border-left-color: var(--fill-color);\n",
              "      border-top-color: var(--fill-color);\n",
              "      border-right-color: var(--fill-color);\n",
              "    }\n",
              "    40% {\n",
              "      border-color: transparent;\n",
              "      border-right-color: var(--fill-color);\n",
              "      border-top-color: var(--fill-color);\n",
              "    }\n",
              "    60% {\n",
              "      border-color: transparent;\n",
              "      border-right-color: var(--fill-color);\n",
              "    }\n",
              "    80% {\n",
              "      border-color: transparent;\n",
              "      border-right-color: var(--fill-color);\n",
              "      border-bottom-color: var(--fill-color);\n",
              "    }\n",
              "    90% {\n",
              "      border-color: transparent;\n",
              "      border-bottom-color: var(--fill-color);\n",
              "    }\n",
              "  }\n",
              "</style>\n",
              "\n",
              "      <script>\n",
              "        async function quickchart(key) {\n",
              "          const quickchartButtonEl =\n",
              "            document.querySelector('#' + key + ' button');\n",
              "          quickchartButtonEl.disabled = true;  // To prevent multiple clicks.\n",
              "          quickchartButtonEl.classList.add('colab-df-spinner');\n",
              "          try {\n",
              "            const charts = await google.colab.kernel.invokeFunction(\n",
              "                'suggestCharts', [key], {});\n",
              "          } catch (error) {\n",
              "            console.error('Error during call to suggestCharts:', error);\n",
              "          }\n",
              "          quickchartButtonEl.classList.remove('colab-df-spinner');\n",
              "          quickchartButtonEl.classList.add('colab-df-quickchart-complete');\n",
              "        }\n",
              "        (() => {\n",
              "          let quickchartButtonEl =\n",
              "            document.querySelector('#df-0992210a-766d-4065-9e68-0ef3856c7203 button');\n",
              "          quickchartButtonEl.style.display =\n",
              "            google.colab.kernel.accessAllowed ? 'block' : 'none';\n",
              "        })();\n",
              "      </script>\n",
              "    </div>\n",
              "\n",
              "    </div>\n",
              "  </div>\n"
            ],
            "application/vnd.google.colaboratory.intrinsic+json": {
              "type": "dataframe",
              "summary": "{\n  \"name\": \"pd\",\n  \"rows\": 5,\n  \"fields\": [\n    {\n      \"column\": \"driverId\",\n      \"properties\": {\n        \"dtype\": \"number\",\n        \"std\": 1,\n        \"min\": 1,\n        \"max\": 5,\n        \"num_unique_values\": 5,\n        \"samples\": [\n          2,\n          5,\n          3\n        ],\n        \"semantic_type\": \"\",\n        \"description\": \"\"\n      }\n    },\n    {\n      \"column\": \"driverRef\",\n      \"properties\": {\n        \"dtype\": \"string\",\n        \"num_unique_values\": 5,\n        \"samples\": [\n          \"heidfeld\",\n          \"kovalainen\",\n          \"rosberg\"\n        ],\n        \"semantic_type\": \"\",\n        \"description\": \"\"\n      }\n    },\n    {\n      \"column\": \"number\",\n      \"properties\": {\n        \"dtype\": \"string\",\n        \"num_unique_values\": 4,\n        \"samples\": [\n          \"\\\\N\",\n          \"14\",\n          \"44\"\n        ],\n        \"semantic_type\": \"\",\n        \"description\": \"\"\n      }\n    },\n    {\n      \"column\": \"code\",\n      \"properties\": {\n        \"dtype\": \"string\",\n        \"num_unique_values\": 5,\n        \"samples\": [\n          \"HEI\",\n          \"KOV\",\n          \"ROS\"\n        ],\n        \"semantic_type\": \"\",\n        \"description\": \"\"\n      }\n    },\n    {\n      \"column\": \"forename\",\n      \"properties\": {\n        \"dtype\": \"string\",\n        \"num_unique_values\": 5,\n        \"samples\": [\n          \"Nick\",\n          \"Heikki\",\n          \"Nico\"\n        ],\n        \"semantic_type\": \"\",\n        \"description\": \"\"\n      }\n    },\n    {\n      \"column\": \"surname\",\n      \"properties\": {\n        \"dtype\": \"string\",\n        \"num_unique_values\": 5,\n        \"samples\": [\n          \"Heidfeld\",\n          \"Kovalainen\",\n          \"Rosberg\"\n        ],\n        \"semantic_type\": \"\",\n        \"description\": \"\"\n      }\n    },\n    {\n      \"column\": \"dob\",\n      \"properties\": {\n        \"dtype\": \"object\",\n        \"num_unique_values\": 5,\n        \"samples\": [\n          \"1977-05-10\",\n          \"1981-10-19\",\n          \"1985-06-27\"\n        ],\n        \"semantic_type\": \"\",\n        \"description\": \"\"\n      }\n    },\n    {\n      \"column\": \"nationality\",\n      \"properties\": {\n        \"dtype\": \"string\",\n        \"num_unique_values\": 4,\n        \"samples\": [\n          \"German\",\n          \"Finnish\",\n          \"British\"\n        ],\n        \"semantic_type\": \"\",\n        \"description\": \"\"\n      }\n    },\n    {\n      \"column\": \"url\",\n      \"properties\": {\n        \"dtype\": \"string\",\n        \"num_unique_values\": 5,\n        \"samples\": [\n          \"http://en.wikipedia.org/wiki/Nick_Heidfeld\",\n          \"http://en.wikipedia.org/wiki/Heikki_Kovalainen\",\n          \"http://en.wikipedia.org/wiki/Nico_Rosberg\"\n        ],\n        \"semantic_type\": \"\",\n        \"description\": \"\"\n      }\n    }\n  ]\n}"
            }
          },
          "metadata": {},
          "execution_count": 6
        }
      ]
    },
    {
      "cell_type": "code",
      "source": [
        "races = pd.read_csv(\"races.csv\")\n",
        "races.to_sql(\"races\", conn, if_exists=\"replace\", index=False)\n",
        "constructors = pd.read_csv(\"constructors.csv\")\n",
        "constructors.to_sql(\"constructors\", conn, if_exists=\"replace\", index=False)"
      ],
      "metadata": {
        "colab": {
          "base_uri": "https://localhost:8080/"
        },
        "id": "S224c6dfaSVA",
        "outputId": "62df4cac-2a34-4290-b0c5-16000ea714c6"
      },
      "execution_count": 7,
      "outputs": [
        {
          "output_type": "execute_result",
          "data": {
            "text/plain": [
              "212"
            ]
          },
          "metadata": {},
          "execution_count": 7
        }
      ]
    },
    {
      "cell_type": "code",
      "source": [
        "\n",
        "# Checking table\n",
        "%%sql\n",
        "SELECT *\n",
        "FROM drivers\n",
        "LIMIT 5;"
      ],
      "metadata": {
        "id": "J0bSBykhNmNB",
        "colab": {
          "base_uri": "https://localhost:8080/",
          "height": 180
        },
        "outputId": "dd371daa-0fdf-4dba-f40f-bd2c6e678cdd"
      },
      "execution_count": 14,
      "outputs": [
        {
          "output_type": "stream",
          "name": "stdout",
          "text": [
            " * sqlite:///f1.db\n",
            "Done.\n"
          ]
        },
        {
          "output_type": "execute_result",
          "data": {
            "text/plain": [
              "[(1, 'hamilton', '44', 'HAM', 'Lewis', 'Hamilton', '1985-01-07', 'British', 'http://en.wikipedia.org/wiki/Lewis_Hamilton'),\n",
              " (2, 'heidfeld', '\\\\N', 'HEI', 'Nick', 'Heidfeld', '1977-05-10', 'German', 'http://en.wikipedia.org/wiki/Nick_Heidfeld'),\n",
              " (3, 'rosberg', '6', 'ROS', 'Nico', 'Rosberg', '1985-06-27', 'German', 'http://en.wikipedia.org/wiki/Nico_Rosberg'),\n",
              " (4, 'alonso', '14', 'ALO', 'Fernando', 'Alonso', '1981-07-29', 'Spanish', 'http://en.wikipedia.org/wiki/Fernando_Alonso'),\n",
              " (5, 'kovalainen', '\\\\N', 'KOV', 'Heikki', 'Kovalainen', '1981-10-19', 'Finnish', 'http://en.wikipedia.org/wiki/Heikki_Kovalainen')]"
            ],
            "text/html": [
              "<table>\n",
              "    <thead>\n",
              "        <tr>\n",
              "            <th>driverId</th>\n",
              "            <th>driverRef</th>\n",
              "            <th>number</th>\n",
              "            <th>code</th>\n",
              "            <th>forename</th>\n",
              "            <th>surname</th>\n",
              "            <th>dob</th>\n",
              "            <th>nationality</th>\n",
              "            <th>url</th>\n",
              "        </tr>\n",
              "    </thead>\n",
              "    <tbody>\n",
              "        <tr>\n",
              "            <td>1</td>\n",
              "            <td>hamilton</td>\n",
              "            <td>44</td>\n",
              "            <td>HAM</td>\n",
              "            <td>Lewis</td>\n",
              "            <td>Hamilton</td>\n",
              "            <td>1985-01-07</td>\n",
              "            <td>British</td>\n",
              "            <td>http://en.wikipedia.org/wiki/Lewis_Hamilton</td>\n",
              "        </tr>\n",
              "        <tr>\n",
              "            <td>2</td>\n",
              "            <td>heidfeld</td>\n",
              "            <td>\\N</td>\n",
              "            <td>HEI</td>\n",
              "            <td>Nick</td>\n",
              "            <td>Heidfeld</td>\n",
              "            <td>1977-05-10</td>\n",
              "            <td>German</td>\n",
              "            <td>http://en.wikipedia.org/wiki/Nick_Heidfeld</td>\n",
              "        </tr>\n",
              "        <tr>\n",
              "            <td>3</td>\n",
              "            <td>rosberg</td>\n",
              "            <td>6</td>\n",
              "            <td>ROS</td>\n",
              "            <td>Nico</td>\n",
              "            <td>Rosberg</td>\n",
              "            <td>1985-06-27</td>\n",
              "            <td>German</td>\n",
              "            <td>http://en.wikipedia.org/wiki/Nico_Rosberg</td>\n",
              "        </tr>\n",
              "        <tr>\n",
              "            <td>4</td>\n",
              "            <td>alonso</td>\n",
              "            <td>14</td>\n",
              "            <td>ALO</td>\n",
              "            <td>Fernando</td>\n",
              "            <td>Alonso</td>\n",
              "            <td>1981-07-29</td>\n",
              "            <td>Spanish</td>\n",
              "            <td>http://en.wikipedia.org/wiki/Fernando_Alonso</td>\n",
              "        </tr>\n",
              "        <tr>\n",
              "            <td>5</td>\n",
              "            <td>kovalainen</td>\n",
              "            <td>\\N</td>\n",
              "            <td>KOV</td>\n",
              "            <td>Heikki</td>\n",
              "            <td>Kovalainen</td>\n",
              "            <td>1981-10-19</td>\n",
              "            <td>Finnish</td>\n",
              "            <td>http://en.wikipedia.org/wiki/Heikki_Kovalainen</td>\n",
              "        </tr>\n",
              "    </tbody>\n",
              "</table>"
            ]
          },
          "metadata": {},
          "execution_count": 14
        }
      ]
    },
    {
      "cell_type": "code",
      "source": [
        "%%sql\n",
        "SELECT *\n",
        "FROM constructors\n",
        "LIMIT 5;"
      ],
      "metadata": {
        "colab": {
          "base_uri": "https://localhost:8080/",
          "height": 180
        },
        "id": "nIrCaodkhcNW",
        "outputId": "a03333b9-faab-4d28-d782-7049339ff3ad"
      },
      "execution_count": 15,
      "outputs": [
        {
          "output_type": "stream",
          "name": "stdout",
          "text": [
            " * sqlite:///f1.db\n",
            "Done.\n"
          ]
        },
        {
          "output_type": "execute_result",
          "data": {
            "text/plain": [
              "[(1, 'mclaren', 'McLaren', 'British', 'http://en.wikipedia.org/wiki/McLaren'),\n",
              " (2, 'bmw_sauber', 'BMW Sauber', 'German', 'http://en.wikipedia.org/wiki/BMW_Sauber'),\n",
              " (3, 'williams', 'Williams', 'British', 'http://en.wikipedia.org/wiki/Williams_Grand_Prix_Engineering'),\n",
              " (4, 'renault', 'Renault', 'French', 'http://en.wikipedia.org/wiki/Renault_in_Formula_One'),\n",
              " (5, 'toro_rosso', 'Toro Rosso', 'Italian', 'http://en.wikipedia.org/wiki/Scuderia_Toro_Rosso')]"
            ],
            "text/html": [
              "<table>\n",
              "    <thead>\n",
              "        <tr>\n",
              "            <th>constructorId</th>\n",
              "            <th>constructorRef</th>\n",
              "            <th>name</th>\n",
              "            <th>nationality</th>\n",
              "            <th>url</th>\n",
              "        </tr>\n",
              "    </thead>\n",
              "    <tbody>\n",
              "        <tr>\n",
              "            <td>1</td>\n",
              "            <td>mclaren</td>\n",
              "            <td>McLaren</td>\n",
              "            <td>British</td>\n",
              "            <td>http://en.wikipedia.org/wiki/McLaren</td>\n",
              "        </tr>\n",
              "        <tr>\n",
              "            <td>2</td>\n",
              "            <td>bmw_sauber</td>\n",
              "            <td>BMW Sauber</td>\n",
              "            <td>German</td>\n",
              "            <td>http://en.wikipedia.org/wiki/BMW_Sauber</td>\n",
              "        </tr>\n",
              "        <tr>\n",
              "            <td>3</td>\n",
              "            <td>williams</td>\n",
              "            <td>Williams</td>\n",
              "            <td>British</td>\n",
              "            <td>http://en.wikipedia.org/wiki/Williams_Grand_Prix_Engineering</td>\n",
              "        </tr>\n",
              "        <tr>\n",
              "            <td>4</td>\n",
              "            <td>renault</td>\n",
              "            <td>Renault</td>\n",
              "            <td>French</td>\n",
              "            <td>http://en.wikipedia.org/wiki/Renault_in_Formula_One</td>\n",
              "        </tr>\n",
              "        <tr>\n",
              "            <td>5</td>\n",
              "            <td>toro_rosso</td>\n",
              "            <td>Toro Rosso</td>\n",
              "            <td>Italian</td>\n",
              "            <td>http://en.wikipedia.org/wiki/Scuderia_Toro_Rosso</td>\n",
              "        </tr>\n",
              "    </tbody>\n",
              "</table>"
            ]
          },
          "metadata": {},
          "execution_count": 15
        }
      ]
    },
    {
      "cell_type": "code",
      "source": [
        "%%sql\n",
        "SELECT *\n",
        "FROM races\n",
        "LIMIT 5;"
      ],
      "metadata": {
        "colab": {
          "base_uri": "https://localhost:8080/",
          "height": 373
        },
        "id": "AiwLJe8Lhp3s",
        "outputId": "3ebc36b1-af17-477f-aacd-3250b4d492bb"
      },
      "execution_count": 16,
      "outputs": [
        {
          "output_type": "stream",
          "name": "stdout",
          "text": [
            " * sqlite:///f1.db\n",
            "Done.\n"
          ]
        },
        {
          "output_type": "execute_result",
          "data": {
            "text/plain": [
              "[(1, 2009, 1, 1, 'Australian Grand Prix', '2009-03-29', '06:00:00', 'http://en.wikipedia.org/wiki/2009_Australian_Grand_Prix', '\\\\N', '\\\\N', '\\\\N', '\\\\N', '\\\\N', '\\\\N', '\\\\N', '\\\\N', '\\\\N', '\\\\N'),\n",
              " (2, 2009, 2, 2, 'Malaysian Grand Prix', '2009-04-05', '09:00:00', 'http://en.wikipedia.org/wiki/2009_Malaysian_Grand_Prix', '\\\\N', '\\\\N', '\\\\N', '\\\\N', '\\\\N', '\\\\N', '\\\\N', '\\\\N', '\\\\N', '\\\\N'),\n",
              " (3, 2009, 3, 17, 'Chinese Grand Prix', '2009-04-19', '07:00:00', 'http://en.wikipedia.org/wiki/2009_Chinese_Grand_Prix', '\\\\N', '\\\\N', '\\\\N', '\\\\N', '\\\\N', '\\\\N', '\\\\N', '\\\\N', '\\\\N', '\\\\N'),\n",
              " (4, 2009, 4, 3, 'Bahrain Grand Prix', '2009-04-26', '12:00:00', 'http://en.wikipedia.org/wiki/2009_Bahrain_Grand_Prix', '\\\\N', '\\\\N', '\\\\N', '\\\\N', '\\\\N', '\\\\N', '\\\\N', '\\\\N', '\\\\N', '\\\\N'),\n",
              " (5, 2009, 5, 4, 'Spanish Grand Prix', '2009-05-10', '12:00:00', 'http://en.wikipedia.org/wiki/2009_Spanish_Grand_Prix', '\\\\N', '\\\\N', '\\\\N', '\\\\N', '\\\\N', '\\\\N', '\\\\N', '\\\\N', '\\\\N', '\\\\N')]"
            ],
            "text/html": [
              "<table>\n",
              "    <thead>\n",
              "        <tr>\n",
              "            <th>raceId</th>\n",
              "            <th>year</th>\n",
              "            <th>round</th>\n",
              "            <th>circuitId</th>\n",
              "            <th>name</th>\n",
              "            <th>date</th>\n",
              "            <th>time</th>\n",
              "            <th>url</th>\n",
              "            <th>fp1_date</th>\n",
              "            <th>fp1_time</th>\n",
              "            <th>fp2_date</th>\n",
              "            <th>fp2_time</th>\n",
              "            <th>fp3_date</th>\n",
              "            <th>fp3_time</th>\n",
              "            <th>quali_date</th>\n",
              "            <th>quali_time</th>\n",
              "            <th>sprint_date</th>\n",
              "            <th>sprint_time</th>\n",
              "        </tr>\n",
              "    </thead>\n",
              "    <tbody>\n",
              "        <tr>\n",
              "            <td>1</td>\n",
              "            <td>2009</td>\n",
              "            <td>1</td>\n",
              "            <td>1</td>\n",
              "            <td>Australian Grand Prix</td>\n",
              "            <td>2009-03-29</td>\n",
              "            <td>06:00:00</td>\n",
              "            <td>http://en.wikipedia.org/wiki/2009_Australian_Grand_Prix</td>\n",
              "            <td>\\N</td>\n",
              "            <td>\\N</td>\n",
              "            <td>\\N</td>\n",
              "            <td>\\N</td>\n",
              "            <td>\\N</td>\n",
              "            <td>\\N</td>\n",
              "            <td>\\N</td>\n",
              "            <td>\\N</td>\n",
              "            <td>\\N</td>\n",
              "            <td>\\N</td>\n",
              "        </tr>\n",
              "        <tr>\n",
              "            <td>2</td>\n",
              "            <td>2009</td>\n",
              "            <td>2</td>\n",
              "            <td>2</td>\n",
              "            <td>Malaysian Grand Prix</td>\n",
              "            <td>2009-04-05</td>\n",
              "            <td>09:00:00</td>\n",
              "            <td>http://en.wikipedia.org/wiki/2009_Malaysian_Grand_Prix</td>\n",
              "            <td>\\N</td>\n",
              "            <td>\\N</td>\n",
              "            <td>\\N</td>\n",
              "            <td>\\N</td>\n",
              "            <td>\\N</td>\n",
              "            <td>\\N</td>\n",
              "            <td>\\N</td>\n",
              "            <td>\\N</td>\n",
              "            <td>\\N</td>\n",
              "            <td>\\N</td>\n",
              "        </tr>\n",
              "        <tr>\n",
              "            <td>3</td>\n",
              "            <td>2009</td>\n",
              "            <td>3</td>\n",
              "            <td>17</td>\n",
              "            <td>Chinese Grand Prix</td>\n",
              "            <td>2009-04-19</td>\n",
              "            <td>07:00:00</td>\n",
              "            <td>http://en.wikipedia.org/wiki/2009_Chinese_Grand_Prix</td>\n",
              "            <td>\\N</td>\n",
              "            <td>\\N</td>\n",
              "            <td>\\N</td>\n",
              "            <td>\\N</td>\n",
              "            <td>\\N</td>\n",
              "            <td>\\N</td>\n",
              "            <td>\\N</td>\n",
              "            <td>\\N</td>\n",
              "            <td>\\N</td>\n",
              "            <td>\\N</td>\n",
              "        </tr>\n",
              "        <tr>\n",
              "            <td>4</td>\n",
              "            <td>2009</td>\n",
              "            <td>4</td>\n",
              "            <td>3</td>\n",
              "            <td>Bahrain Grand Prix</td>\n",
              "            <td>2009-04-26</td>\n",
              "            <td>12:00:00</td>\n",
              "            <td>http://en.wikipedia.org/wiki/2009_Bahrain_Grand_Prix</td>\n",
              "            <td>\\N</td>\n",
              "            <td>\\N</td>\n",
              "            <td>\\N</td>\n",
              "            <td>\\N</td>\n",
              "            <td>\\N</td>\n",
              "            <td>\\N</td>\n",
              "            <td>\\N</td>\n",
              "            <td>\\N</td>\n",
              "            <td>\\N</td>\n",
              "            <td>\\N</td>\n",
              "        </tr>\n",
              "        <tr>\n",
              "            <td>5</td>\n",
              "            <td>2009</td>\n",
              "            <td>5</td>\n",
              "            <td>4</td>\n",
              "            <td>Spanish Grand Prix</td>\n",
              "            <td>2009-05-10</td>\n",
              "            <td>12:00:00</td>\n",
              "            <td>http://en.wikipedia.org/wiki/2009_Spanish_Grand_Prix</td>\n",
              "            <td>\\N</td>\n",
              "            <td>\\N</td>\n",
              "            <td>\\N</td>\n",
              "            <td>\\N</td>\n",
              "            <td>\\N</td>\n",
              "            <td>\\N</td>\n",
              "            <td>\\N</td>\n",
              "            <td>\\N</td>\n",
              "            <td>\\N</td>\n",
              "            <td>\\N</td>\n",
              "        </tr>\n",
              "    </tbody>\n",
              "</table>"
            ]
          },
          "metadata": {},
          "execution_count": 16
        }
      ]
    },
    {
      "cell_type": "markdown",
      "source": [
        "##2. Filtering rows"
      ],
      "metadata": {
        "id": "FU85hmWToGCm"
      }
    },
    {
      "cell_type": "code",
      "source": [
        "# Finding all Spanish drivers\n",
        "%%sql\n",
        "SELECT forename, surname, nationality\n",
        "FROM drivers\n",
        "WHERE nationality = 'Spanish';\n"
      ],
      "metadata": {
        "colab": {
          "base_uri": "https://localhost:8080/",
          "height": 390
        },
        "id": "FYxZcYVSoXQD",
        "outputId": "789728ed-a35f-401f-8160-af7b520bf69f"
      },
      "execution_count": 10,
      "outputs": [
        {
          "output_type": "stream",
          "name": "stdout",
          "text": [
            " * sqlite:///f1.db\n",
            "Done.\n"
          ]
        },
        {
          "output_type": "execute_result",
          "data": {
            "text/plain": [
              "[('Fernando', 'Alonso', 'Spanish'),\n",
              " ('Pedro', 'de la Rosa', 'Spanish'),\n",
              " ('Marc', 'Gené', 'Spanish'),\n",
              " ('Jaime', 'Alguersuari', 'Spanish'),\n",
              " ('Luis', 'Pérez-Sala', 'Spanish'),\n",
              " ('Adrián', 'Campos', 'Spanish'),\n",
              " ('Emilio', 'de Villota', 'Spanish'),\n",
              " ('Emilio', 'Zapico', 'Spanish'),\n",
              " ('Alex', 'Soler-Roig', 'Spanish'),\n",
              " ('Antonio', 'Creus', 'Spanish'),\n",
              " ('Paco', 'Godia', 'Spanish'),\n",
              " ('Alfonso', 'de Portago', 'Spanish'),\n",
              " ('Juan', 'Jover', 'Spanish'),\n",
              " ('Carlos', 'Sainz', 'Spanish'),\n",
              " ('Roberto', 'Merhi', 'Spanish')]"
            ],
            "text/html": [
              "<table>\n",
              "    <thead>\n",
              "        <tr>\n",
              "            <th>forename</th>\n",
              "            <th>surname</th>\n",
              "            <th>nationality</th>\n",
              "        </tr>\n",
              "    </thead>\n",
              "    <tbody>\n",
              "        <tr>\n",
              "            <td>Fernando</td>\n",
              "            <td>Alonso</td>\n",
              "            <td>Spanish</td>\n",
              "        </tr>\n",
              "        <tr>\n",
              "            <td>Pedro</td>\n",
              "            <td>de la Rosa</td>\n",
              "            <td>Spanish</td>\n",
              "        </tr>\n",
              "        <tr>\n",
              "            <td>Marc</td>\n",
              "            <td>Gené</td>\n",
              "            <td>Spanish</td>\n",
              "        </tr>\n",
              "        <tr>\n",
              "            <td>Jaime</td>\n",
              "            <td>Alguersuari</td>\n",
              "            <td>Spanish</td>\n",
              "        </tr>\n",
              "        <tr>\n",
              "            <td>Luis</td>\n",
              "            <td>Pérez-Sala</td>\n",
              "            <td>Spanish</td>\n",
              "        </tr>\n",
              "        <tr>\n",
              "            <td>Adrián</td>\n",
              "            <td>Campos</td>\n",
              "            <td>Spanish</td>\n",
              "        </tr>\n",
              "        <tr>\n",
              "            <td>Emilio</td>\n",
              "            <td>de Villota</td>\n",
              "            <td>Spanish</td>\n",
              "        </tr>\n",
              "        <tr>\n",
              "            <td>Emilio</td>\n",
              "            <td>Zapico</td>\n",
              "            <td>Spanish</td>\n",
              "        </tr>\n",
              "        <tr>\n",
              "            <td>Alex</td>\n",
              "            <td>Soler-Roig</td>\n",
              "            <td>Spanish</td>\n",
              "        </tr>\n",
              "        <tr>\n",
              "            <td>Antonio</td>\n",
              "            <td>Creus</td>\n",
              "            <td>Spanish</td>\n",
              "        </tr>\n",
              "        <tr>\n",
              "            <td>Paco</td>\n",
              "            <td>Godia</td>\n",
              "            <td>Spanish</td>\n",
              "        </tr>\n",
              "        <tr>\n",
              "            <td>Alfonso</td>\n",
              "            <td>de Portago</td>\n",
              "            <td>Spanish</td>\n",
              "        </tr>\n",
              "        <tr>\n",
              "            <td>Juan</td>\n",
              "            <td>Jover</td>\n",
              "            <td>Spanish</td>\n",
              "        </tr>\n",
              "        <tr>\n",
              "            <td>Carlos</td>\n",
              "            <td>Sainz</td>\n",
              "            <td>Spanish</td>\n",
              "        </tr>\n",
              "        <tr>\n",
              "            <td>Roberto</td>\n",
              "            <td>Merhi</td>\n",
              "            <td>Spanish</td>\n",
              "        </tr>\n",
              "    </tbody>\n",
              "</table>"
            ]
          },
          "metadata": {},
          "execution_count": 10
        }
      ]
    },
    {
      "cell_type": "markdown",
      "source": [
        "##3. Sorting"
      ],
      "metadata": {
        "id": "RfYX_ODty4FL"
      }
    },
    {
      "cell_type": "code",
      "source": [
        "%%sql\n",
        "SELECT forename, surname, dob\n",
        "FROM drivers\n",
        "ORDER BY dob ASC\n",
        "LIMIT 10;"
      ],
      "metadata": {
        "id": "yVU7ESV_SLil",
        "colab": {
          "base_uri": "https://localhost:8080/",
          "height": 285
        },
        "outputId": "6edddd1e-0e71-4919-8ed8-2cbe6eba4d32"
      },
      "execution_count": 12,
      "outputs": [
        {
          "output_type": "stream",
          "name": "stdout",
          "text": [
            " * sqlite:///f1.db\n",
            "Done.\n"
          ]
        },
        {
          "output_type": "execute_result",
          "data": {
            "text/plain": [
              "[('Philippe', 'Étancelin', '1896-12-28'),\n",
              " ('Luigi', 'Fagioli', '1898-06-09'),\n",
              " ('Clemente', 'Biondetti', '1898-08-18'),\n",
              " ('Arthur', 'Legat', '1898-11-01'),\n",
              " ('Louis', 'Chiron', '1899-08-03'),\n",
              " ('Piero', 'Dusio', '1899-10-13'),\n",
              " ('Adolf', 'Brudes', '1899-10-15'),\n",
              " ('Bill', 'Aston', '1900-03-29'),\n",
              " ('Hans', 'von Stuck', '1900-12-27'),\n",
              " ('Rudolf', 'Schoeller', '1902-04-27')]"
            ],
            "text/html": [
              "<table>\n",
              "    <thead>\n",
              "        <tr>\n",
              "            <th>forename</th>\n",
              "            <th>surname</th>\n",
              "            <th>dob</th>\n",
              "        </tr>\n",
              "    </thead>\n",
              "    <tbody>\n",
              "        <tr>\n",
              "            <td>Philippe</td>\n",
              "            <td>Étancelin</td>\n",
              "            <td>1896-12-28</td>\n",
              "        </tr>\n",
              "        <tr>\n",
              "            <td>Luigi</td>\n",
              "            <td>Fagioli</td>\n",
              "            <td>1898-06-09</td>\n",
              "        </tr>\n",
              "        <tr>\n",
              "            <td>Clemente</td>\n",
              "            <td>Biondetti</td>\n",
              "            <td>1898-08-18</td>\n",
              "        </tr>\n",
              "        <tr>\n",
              "            <td>Arthur</td>\n",
              "            <td>Legat</td>\n",
              "            <td>1898-11-01</td>\n",
              "        </tr>\n",
              "        <tr>\n",
              "            <td>Louis</td>\n",
              "            <td>Chiron</td>\n",
              "            <td>1899-08-03</td>\n",
              "        </tr>\n",
              "        <tr>\n",
              "            <td>Piero</td>\n",
              "            <td>Dusio</td>\n",
              "            <td>1899-10-13</td>\n",
              "        </tr>\n",
              "        <tr>\n",
              "            <td>Adolf</td>\n",
              "            <td>Brudes</td>\n",
              "            <td>1899-10-15</td>\n",
              "        </tr>\n",
              "        <tr>\n",
              "            <td>Bill</td>\n",
              "            <td>Aston</td>\n",
              "            <td>1900-03-29</td>\n",
              "        </tr>\n",
              "        <tr>\n",
              "            <td>Hans</td>\n",
              "            <td>von Stuck</td>\n",
              "            <td>1900-12-27</td>\n",
              "        </tr>\n",
              "        <tr>\n",
              "            <td>Rudolf</td>\n",
              "            <td>Schoeller</td>\n",
              "            <td>1902-04-27</td>\n",
              "        </tr>\n",
              "    </tbody>\n",
              "</table>"
            ]
          },
          "metadata": {},
          "execution_count": 12
        }
      ]
    },
    {
      "cell_type": "code",
      "source": [
        "%%sql\n",
        "SELECT forename, surname, dob\n",
        "FROM drivers\n",
        "ORDER BY dob DESC\n",
        "LIMIT 10;"
      ],
      "metadata": {
        "colab": {
          "base_uri": "https://localhost:8080/",
          "height": 285
        },
        "id": "FVEzvHDqdwZI",
        "outputId": "76ffcf54-be89-4876-f201-50985cc72781"
      },
      "execution_count": 13,
      "outputs": [
        {
          "output_type": "stream",
          "name": "stdout",
          "text": [
            " * sqlite:///f1.db\n",
            "Done.\n"
          ]
        },
        {
          "output_type": "execute_result",
          "data": {
            "text/plain": [
              "[('Oliver', 'Bearman', '2005-05-08'),\n",
              " ('Franco', 'Colapinto', '2003-05-27'),\n",
              " ('Jack', 'Doohan', '2003-01-20'),\n",
              " ('Liam', 'Lawson', '2002-02-11'),\n",
              " ('Oscar', 'Piastri', '2001-04-06'),\n",
              " ('Logan', 'Sargeant', '2000-12-31'),\n",
              " ('Yuki', 'Tsunoda', '2000-05-11'),\n",
              " ('Lando', 'Norris', '1999-11-13'),\n",
              " ('Guanyu', 'Zhou', '1999-05-30'),\n",
              " ('Mick', 'Schumacher', '1999-03-22')]"
            ],
            "text/html": [
              "<table>\n",
              "    <thead>\n",
              "        <tr>\n",
              "            <th>forename</th>\n",
              "            <th>surname</th>\n",
              "            <th>dob</th>\n",
              "        </tr>\n",
              "    </thead>\n",
              "    <tbody>\n",
              "        <tr>\n",
              "            <td>Oliver</td>\n",
              "            <td>Bearman</td>\n",
              "            <td>2005-05-08</td>\n",
              "        </tr>\n",
              "        <tr>\n",
              "            <td>Franco</td>\n",
              "            <td>Colapinto</td>\n",
              "            <td>2003-05-27</td>\n",
              "        </tr>\n",
              "        <tr>\n",
              "            <td>Jack</td>\n",
              "            <td>Doohan</td>\n",
              "            <td>2003-01-20</td>\n",
              "        </tr>\n",
              "        <tr>\n",
              "            <td>Liam</td>\n",
              "            <td>Lawson</td>\n",
              "            <td>2002-02-11</td>\n",
              "        </tr>\n",
              "        <tr>\n",
              "            <td>Oscar</td>\n",
              "            <td>Piastri</td>\n",
              "            <td>2001-04-06</td>\n",
              "        </tr>\n",
              "        <tr>\n",
              "            <td>Logan</td>\n",
              "            <td>Sargeant</td>\n",
              "            <td>2000-12-31</td>\n",
              "        </tr>\n",
              "        <tr>\n",
              "            <td>Yuki</td>\n",
              "            <td>Tsunoda</td>\n",
              "            <td>2000-05-11</td>\n",
              "        </tr>\n",
              "        <tr>\n",
              "            <td>Lando</td>\n",
              "            <td>Norris</td>\n",
              "            <td>1999-11-13</td>\n",
              "        </tr>\n",
              "        <tr>\n",
              "            <td>Guanyu</td>\n",
              "            <td>Zhou</td>\n",
              "            <td>1999-05-30</td>\n",
              "        </tr>\n",
              "        <tr>\n",
              "            <td>Mick</td>\n",
              "            <td>Schumacher</td>\n",
              "            <td>1999-03-22</td>\n",
              "        </tr>\n",
              "    </tbody>\n",
              "</table>"
            ]
          },
          "metadata": {},
          "execution_count": 13
        }
      ]
    },
    {
      "cell_type": "markdown",
      "source": [
        "##4. Filter with conditions"
      ],
      "metadata": {
        "id": "bn52oDpyeWYA"
      }
    },
    {
      "cell_type": "code",
      "source": [
        "%%sql\n",
        "SELECT forename, surname, dob, nationality\n",
        "FROM drivers\n",
        "WHERE surname LIKE \"Ver%\" ;"
      ],
      "metadata": {
        "colab": {
          "base_uri": "https://localhost:8080/",
          "height": 137
        },
        "id": "h_UTDJ4qea4R",
        "outputId": "8524cb9a-9912-4baa-8134-ea401fd1af5c"
      },
      "execution_count": 19,
      "outputs": [
        {
          "output_type": "stream",
          "name": "stdout",
          "text": [
            " * sqlite:///f1.db\n",
            "Done.\n"
          ]
        },
        {
          "output_type": "execute_result",
          "data": {
            "text/plain": [
              "[('Jos', 'Verstappen', '1972-03-04', 'Dutch'),\n",
              " ('Jean-Éric', 'Vergne', '1990-04-25', 'French'),\n",
              " ('Max', 'Verstappen', '1997-09-30', 'Dutch')]"
            ],
            "text/html": [
              "<table>\n",
              "    <thead>\n",
              "        <tr>\n",
              "            <th>forename</th>\n",
              "            <th>surname</th>\n",
              "            <th>dob</th>\n",
              "            <th>nationality</th>\n",
              "        </tr>\n",
              "    </thead>\n",
              "    <tbody>\n",
              "        <tr>\n",
              "            <td>Jos</td>\n",
              "            <td>Verstappen</td>\n",
              "            <td>1972-03-04</td>\n",
              "            <td>Dutch</td>\n",
              "        </tr>\n",
              "        <tr>\n",
              "            <td>Jean-Éric</td>\n",
              "            <td>Vergne</td>\n",
              "            <td>1990-04-25</td>\n",
              "            <td>French</td>\n",
              "        </tr>\n",
              "        <tr>\n",
              "            <td>Max</td>\n",
              "            <td>Verstappen</td>\n",
              "            <td>1997-09-30</td>\n",
              "            <td>Dutch</td>\n",
              "        </tr>\n",
              "    </tbody>\n",
              "</table>"
            ]
          },
          "metadata": {},
          "execution_count": 19
        }
      ]
    },
    {
      "cell_type": "code",
      "source": [
        "%%sql\n",
        "SELECT forename, surname, dob\n",
        "FROM drivers\n",
        "WHERE surname LIKE \"Sch%\" AND nationality = 'German' ;"
      ],
      "metadata": {
        "colab": {
          "base_uri": "https://localhost:8080/",
          "height": 159
        },
        "id": "fKcmgSW1iJAz",
        "outputId": "c210e805-6dda-4138-e325-89e1748571c3"
      },
      "execution_count": 20,
      "outputs": [
        {
          "output_type": "stream",
          "name": "stdout",
          "text": [
            " * sqlite:///f1.db\n",
            "Done.\n"
          ]
        },
        {
          "output_type": "execute_result",
          "data": {
            "text/plain": [
              "[('Ralf', 'Schumacher', '1975-06-30'),\n",
              " ('Michael', 'Schumacher', '1969-01-03'),\n",
              " ('Bernd', 'Schneider', '1964-07-20'),\n",
              " ('Mick', 'Schumacher', '1999-03-22')]"
            ],
            "text/html": [
              "<table>\n",
              "    <thead>\n",
              "        <tr>\n",
              "            <th>forename</th>\n",
              "            <th>surname</th>\n",
              "            <th>dob</th>\n",
              "        </tr>\n",
              "    </thead>\n",
              "    <tbody>\n",
              "        <tr>\n",
              "            <td>Ralf</td>\n",
              "            <td>Schumacher</td>\n",
              "            <td>1975-06-30</td>\n",
              "        </tr>\n",
              "        <tr>\n",
              "            <td>Michael</td>\n",
              "            <td>Schumacher</td>\n",
              "            <td>1969-01-03</td>\n",
              "        </tr>\n",
              "        <tr>\n",
              "            <td>Bernd</td>\n",
              "            <td>Schneider</td>\n",
              "            <td>1964-07-20</td>\n",
              "        </tr>\n",
              "        <tr>\n",
              "            <td>Mick</td>\n",
              "            <td>Schumacher</td>\n",
              "            <td>1999-03-22</td>\n",
              "        </tr>\n",
              "    </tbody>\n",
              "</table>"
            ]
          },
          "metadata": {},
          "execution_count": 20
        }
      ]
    },
    {
      "cell_type": "code",
      "source": [
        "%%sql\n",
        "SELECT name, nationality\n",
        "FROM constructors\n",
        "WHERE nationality = 'French' OR 'Italian';\n"
      ],
      "metadata": {
        "colab": {
          "base_uri": "https://localhost:8080/"
        },
        "id": "D6qcxCdisQMu",
        "outputId": "de7ebdbf-f47c-4cbe-c099-06a2fc9785be"
      },
      "execution_count": 1,
      "outputs": [
        {
          "output_type": "stream",
          "name": "stderr",
          "text": [
            "UsageError: Cell magic `%%sql` not found.\n"
          ]
        }
      ]
    },
    {
      "cell_type": "markdown",
      "source": [
        "##5. Select TOP"
      ],
      "metadata": {
        "id": "PFgM9rTbuYwq"
      }
    },
    {
      "cell_type": "markdown",
      "source": [
        "##6. Aggregate Functions"
      ],
      "metadata": {
        "id": "b-i99pTpuVIi"
      }
    },
    {
      "cell_type": "markdown",
      "source": [
        "##7. Wildcards"
      ],
      "metadata": {
        "id": "jxO9SQAqvK_m"
      }
    },
    {
      "cell_type": "markdown",
      "source": [
        "##8. IN/BETWEEN"
      ],
      "metadata": {
        "id": "zt3RnVLuvcJB"
      }
    }
  ]
}